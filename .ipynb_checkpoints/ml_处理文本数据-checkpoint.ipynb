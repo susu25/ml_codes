{
 "cells": [
  {
   "cell_type": "code",
   "execution_count": 1,
   "id": "martial-penny",
   "metadata": {},
   "outputs": [],
   "source": [
    "# 文本通常只是数据集中的字符串，但并非所有字符串特征都应该被当做文本来处理，常见四种类型\n",
    "# 分类数据、可以在语义上映射为类别的自由字符串、结构化字符串数据、文本数据\n",
    "# 在文本分析的语境中，数据集通常被称为语料库，每个由单个文本表示的数据点被称为文档"
   ]
  },
  {
   "cell_type": "code",
   "execution_count": 2,
   "id": "governing-least",
   "metadata": {},
   "outputs": [
    {
     "name": "stdout",
     "output_type": "stream",
     "text": [
      "tpye of text_train:<class 'list'>\n",
      "length of text_train:75000\n",
      "text_train[1]:\n",
      "b\"Amount of disappointment I am getting these days seeing movies like Partner, Jhoom Barabar and now, Heyy Babyy is gonna end my habit of seeing first day shows.<br /><br />The movie is an utter disappointment because it had the potential to become a laugh riot only if the d\\xc3\\xa9butant director, Sajid Khan hadn't tried too many things. Only saving grace in the movie were the last thirty minutes, which were seriously funny elsewhere the movie fails miserably. First half was desperately been tried to look funny but wasn't. Next 45 minutes were emotional and looked totally artificial and illogical.<br /><br />OK, when you are out for a movie like this you don't expect much logic but all the flaws tend to appear when you don't enjoy the movie and thats the case with Heyy Babyy. Acting is good but thats not enough to keep one interested.<br /><br />For the positives, you can take hot actresses, last 30 minutes, some comic scenes, good acting by the lead cast and the baby. Only problem is that these things do not come together properly to make a good movie.<br /><br />Anyways, I read somewhere that It isn't a copy of Three men and a baby but I think it would have been better if it was.\"\n"
     ]
    }
   ],
   "source": [
    "# 示例应用：电影评论的情感分析\n",
    "# 使用aclimdb数据集，数据集包含评论文本，及一个标签用于表示该评论是“正面的”还是“负面的”\n",
    "from sklearn.datasets import load_files\n",
    "\n",
    "# load_files返回一个Bunch对象，其中包含训练文本和训练标签\n",
    "reviews_train = load_files(\"./data/aclimdb/train/\")\n",
    "text_trian, y_train = reviews_train.data, reviews_train.target\n",
    "print(\"tpye of text_train:{}\".format(type(text_trian)))\n",
    "print(\"length of text_train:{}\".format(len(text_trian)))\n",
    "print(\"text_train[1]:\\n{}\".format(text_trian[1]))"
   ]
  },
  {
   "cell_type": "code",
   "execution_count": 4,
   "id": "patient-precipitation",
   "metadata": {},
   "outputs": [],
   "source": [
    "# 清洗文本中存在的HTML换行符\n",
    "text_trian = [doc.replace(b\"<br />\", b\" \") for doc in text_trian]"
   ]
  },
  {
   "cell_type": "code",
   "execution_count": 6,
   "id": "polished-spain",
   "metadata": {},
   "outputs": [
    {
     "name": "stdout",
     "output_type": "stream",
     "text": [
      "Samples per class(traing):[12500 12500 50000]\n"
     ]
    }
   ],
   "source": [
    "import numpy as np\n",
    "\n",
    "print(\"Samples per class(traing):{}\".format(np.bincount(y_train)))"
   ]
  },
  {
   "cell_type": "code",
   "execution_count": 7,
   "id": "fantastic-acquisition",
   "metadata": {},
   "outputs": [
    {
     "data": {
      "text/plain": [
       "array([0, 1, 2])"
      ]
     },
     "execution_count": 7,
     "metadata": {},
     "output_type": "execute_result"
    }
   ],
   "source": []
  },
  {
   "cell_type": "code",
   "execution_count": 13,
   "id": "silver-albania",
   "metadata": {},
   "outputs": [
    {
     "data": {
      "text/plain": [
       "numpy.ndarray"
      ]
     },
     "execution_count": 13,
     "metadata": {},
     "output_type": "execute_result"
    }
   ],
   "source": []
  },
  {
   "cell_type": "code",
   "execution_count": null,
   "id": "fatal-county",
   "metadata": {},
   "outputs": [],
   "source": []
  }
 ],
 "metadata": {
  "kernelspec": {
   "display_name": "Python 3",
   "language": "python",
   "name": "python3"
  },
  "language_info": {
   "codemirror_mode": {
    "name": "ipython",
    "version": 3
   },
   "file_extension": ".py",
   "mimetype": "text/x-python",
   "name": "python",
   "nbconvert_exporter": "python",
   "pygments_lexer": "ipython3",
   "version": "3.5.2"
  }
 },
 "nbformat": 4,
 "nbformat_minor": 5
}
