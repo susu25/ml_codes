{
 "cells": [
  {
   "cell_type": "code",
   "execution_count": 1,
   "id": "latest-broadcasting",
   "metadata": {},
   "outputs": [],
   "source": [
    "# 使用scikit-learn的接口前，通常需要对数据做一些特殊处理，这些处理方法没有在scikit-learn\n",
    "# 中实现，可以自己实现一个估计器，最简单的方法就是从BaseEstimator和TransformerMixin继承，\n",
    "# 然后实现__init__、fit和predict函数"
   ]
  },
  {
   "cell_type": "code",
   "execution_count": 2,
   "id": "excellent-spider",
   "metadata": {},
   "outputs": [],
   "source": [
    "from sklearn.base import BaseEstimator, TransformerMixin\n",
    "\n",
    "class MyTransformer(BaseEstimator, TransformerMixin):\n",
    "    def __init__(self, first_parameter=1, second_parameter=2):\n",
    "        # 所有参数必须在__init__函数中指定\n",
    "        self.first_parameter = 1\n",
    "        self.second_parameter = 1\n",
    "    \n",
    "    def fit(self, X, y=None):\n",
    "        # fit应该只接受X和y作为参数，即使模型是无监督的，也需要接受一个y参数\n",
    "        print(\"fitting the model right here\")\n",
    "        return self\n",
    "    \n",
    "    def transfprm(self, X):\n",
    "        # transform只接受X作为参数\n",
    "        X_transformed = X + 1\n",
    "        return X_transformed"
   ]
  },
  {
   "cell_type": "code",
   "execution_count": 3,
   "id": "satellite-israel",
   "metadata": {},
   "outputs": [],
   "source": [
    "# 上面是实现一个估计器的简单流程示例，如果要实现一个分类器或回归器，方法是类似的，只要需要\n",
    "# 从ClassifierMixin或RegressorMixin继承，而不是TransformerMixin，此外还要实现predict，\n",
    "# 而不是实现transform"
   ]
  },
  {
   "cell_type": "code",
   "execution_count": null,
   "id": "emerging-benjamin",
   "metadata": {},
   "outputs": [],
   "source": []
  }
 ],
 "metadata": {
  "kernelspec": {
   "display_name": "Python 3",
   "language": "python",
   "name": "python3"
  },
  "language_info": {
   "codemirror_mode": {
    "name": "ipython",
    "version": 3
   },
   "file_extension": ".py",
   "mimetype": "text/x-python",
   "name": "python",
   "nbconvert_exporter": "python",
   "pygments_lexer": "ipython3",
   "version": "3.5.2"
  }
 },
 "nbformat": 4,
 "nbformat_minor": 5
}
